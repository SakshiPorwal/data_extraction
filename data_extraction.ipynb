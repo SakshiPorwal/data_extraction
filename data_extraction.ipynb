{
 "cells": [
  {
   "cell_type": "code",
   "execution_count": 9,
   "metadata": {},
   "outputs": [
    {
     "name": "stderr",
     "output_type": "stream",
     "text": [
      "Neither CUDA nor MPS are available - defaulting to CPU. Note: This module is much faster with a GPU.\n"
     ]
    },
    {
     "name": "stdout",
     "output_type": "stream",
     "text": [
      "OCR results saved to F:/DeeplogicAI/results2.csv\n"
     ]
    }
   ],
   "source": [
    "import easyocr\n",
    "import csv\n",
    "import os\n",
    "\n",
    "image_dir = 'F:/DeeplogicAI'\n",
    "reader = easyocr.Reader(['en'])\n",
    "\n",
    "all_results = []\n",
    "\n",
    "for filename in os.listdir(image_dir):\n",
    "    if filename.endswith('.jpg') or filename.endswith('.png'):\n",
    "        image_path = os.path.join(image_dir, filename)\n",
    "        result = reader.readtext(image_path)\n",
    "\n",
    "        for detection in result:\n",
    "            all_results.append([detection[1]]) \n",
    "\n",
    "csv_output_path = 'F:/DeeplogicAI/results2.csv' \n",
    "\n",
    "with open(csv_output_path, 'w', newline='') as csv_file:\n",
    "    csv_writer = csv.writer(csv_file)\n",
    "    csv_writer.writerow(['OCR Text'])\n",
    "    csv_writer.writerows(all_results)\n",
    "\n",
    "print(f\"OCR results saved to {csv_output_path}\")\n"
   ]
  },
  {
   "cell_type": "code",
   "execution_count": 13,
   "metadata": {},
   "outputs": [
    {
     "name": "stderr",
     "output_type": "stream",
     "text": [
      "Neither CUDA nor MPS are available - defaulting to CPU. Note: This module is much faster with a GPU.\n"
     ]
    },
    {
     "name": "stdout",
     "output_type": "stream",
     "text": [
      "OCR results saved to F:/DeeplogicAI/results1.csv\n"
     ]
    }
   ],
   "source": [
    "import easyocr\n",
    "import csv\n",
    "import os, re \n",
    "\n",
    "def extract_key_value_pairs(text):\n",
    "    pairs = {}\n",
    "    current_key = None\n",
    "\n",
    "    for line in text.split('\\n'):\n",
    "        match = re.match(r\"([^:]+):(.+)\", line.strip())\n",
    "        if match:\n",
    "            current_key = match.group(1).strip()\n",
    "            value = match.group(2).strip()\n",
    "            pairs[current_key] = value\n",
    "        elif current_key:\n",
    "            pairs[current_key] += '\\n' + line.strip()\n",
    "\n",
    "    return pairs\n",
    "\n",
    "def extract_tabular_data(text):\n",
    "    lines = [line.strip() for line in text.split('\\n') if line.strip()]\n",
    "    headers = lines[0].split()\n",
    "    rows = [line.split() for line in lines[1:]]\n",
    "\n",
    "    return headers, rows\n",
    "\n",
    "image_dir = 'F:/DeeplogicAI'\n",
    "reader = easyocr.Reader(['en'])\n",
    "\n",
    "all_results = []\n",
    "\n",
    "for filename in os.listdir(image_dir):\n",
    "    if filename.endswith('.jpg') or filename.endswith('.png'):\n",
    "        image_path = os.path.join(image_dir, filename)\n",
    "        result = reader.readtext(image_path)\n",
    "\n",
    "        ocr_text = '\\n'.join([detection[1] for detection in result])\n",
    "\n",
    "        if any(char.isdigit() for char in ocr_text):\n",
    "            headers, tabular_data = extract_tabular_data(ocr_text)\n",
    "            all_results.append({'Filename': filename, 'Tabular Data': tabular_data})\n",
    "        else:\n",
    "            key_value_pairs = extract_key_value_pairs(ocr_text)\n",
    "            all_results.append({'Filename': filename, 'Key-Value Pairs': key_value_pairs})\n",
    "\n",
    "csv_output_path = 'F:/DeeplogicAI/results1.csv'\n",
    "\n",
    "with open(csv_output_path, 'w', newline='', encoding='utf-8') as csv_file:\n",
    "    fieldnames = ['Filename', 'Key-Value Pairs', 'Tabular Data']\n",
    "    csv_writer = csv.DictWriter(csv_file, fieldnames=fieldnames)\n",
    "    csv_writer.writeheader()\n",
    "    csv_writer.writerows(all_results)\n",
    "\n",
    "print(f\"OCR results saved to {csv_output_path}\")\n"
   ]
  },
  {
   "cell_type": "code",
   "execution_count": null,
   "metadata": {},
   "outputs": [],
   "source": []
  }
 ],
 "metadata": {
  "kernelspec": {
   "display_name": "venv",
   "language": "python",
   "name": "python3"
  },
  "language_info": {
   "codemirror_mode": {
    "name": "ipython",
    "version": 3
   },
   "file_extension": ".py",
   "mimetype": "text/x-python",
   "name": "python",
   "nbconvert_exporter": "python",
   "pygments_lexer": "ipython3",
   "version": "3.11.4"
  }
 },
 "nbformat": 4,
 "nbformat_minor": 2
}
